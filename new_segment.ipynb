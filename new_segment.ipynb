{
  "nbformat": 4,
  "nbformat_minor": 5,
  "metadata": {
    "kernelspec": {
      "display_name": "Python 3",
      "language": "python",
      "name": "python3"
    },
    "language_info": {
      "codemirror_mode": {
        "name": "ipython",
        "version": 3
      },
      "file_extension": ".py",
      "mimetype": "text/x-python",
      "name": "python",
      "nbconvert_exporter": "python",
      "pygments_lexer": "ipython3",
      "version": "3.6.10"
    },
    "colab": {
      "name": "new_segment.ipynb",
      "provenance": [],
      "include_colab_link": true
    }
  },
  "cells": [
    {
      "cell_type": "markdown",
      "metadata": {
        "id": "view-in-github",
        "colab_type": "text"
      },
      "source": [
        "<a href=\"https://colab.research.google.com/github/BhaveshWadibhasme/Image-Segmentation/blob/main/new_segment.ipynb\" target=\"_parent\"><img src=\"https://colab.research.google.com/assets/colab-badge.svg\" alt=\"Open In Colab\"/></a>"
      ]
    },
    {
      "cell_type": "code",
      "metadata": {
        "id": "xqpJTXJPKjz4"
      },
      "source": [
        "import tensorflow as tf\n",
        "from tensorflow import keras\n",
        "import glob\n",
        "import numpy as np\n",
        "import cv2\n",
        "from PIL import Image"
      ],
      "id": "xqpJTXJPKjz4",
      "execution_count": null,
      "outputs": []
    },
    {
      "cell_type": "markdown",
      "metadata": {
        "id": "wlo0yYvtKj0B"
      },
      "source": [
        "!pip install git+https://github.com/qubvel/segmentation_models\n"
      ],
      "id": "wlo0yYvtKj0B"
    },
    {
      "cell_type": "code",
      "metadata": {
        "id": "yohwT3mGKj0D"
      },
      "source": [
        "input_dir = \"road_segmentation_ideal/train_data/\"\n",
        "target_dir = \"road_segmentation_ideal/test_data\""
      ],
      "id": "yohwT3mGKj0D",
      "execution_count": null,
      "outputs": []
    },
    {
      "cell_type": "code",
      "metadata": {
        "id": "TplsUcQMKj0I"
      },
      "source": [
        "y = np.zeros((100, 256,256), dtype=np.float32)\n",
        "X = np.zeros((100,256, 256, 1), dtype=np.float32)\n",
        "\n",
        "\n",
        "    "
      ],
      "id": "TplsUcQMKj0I",
      "execution_count": null,
      "outputs": []
    },
    {
      "cell_type": "code",
      "metadata": {
        "id": "_pxPV943Kj0J"
      },
      "source": [
        "train_imgs = glob.glob(\"road_segmentation_ideal/training/input/*png\")\n",
        "for i in range(len(train_imgs)):\n",
        "    if i>=100:\n",
        "        break\n",
        "    img = Image.open(train_imgs[i])\n",
        "    img = img.convert('L')\n",
        "    img = img.resize((256,256))\n",
        "    img = np.array(img).reshape(256,256,1)\n",
        "    X[i] = img/255"
      ],
      "id": "_pxPV943Kj0J",
      "execution_count": null,
      "outputs": []
    },
    {
      "cell_type": "code",
      "metadata": {
        "id": "WXmOiRLpKj0K"
      },
      "source": [
        "tar_imgs = glob.glob(\"road_segmentation_ideal/training/output/*png\")\n",
        "for i in range(len(tar_imgs)):\n",
        "    if i>=100:\n",
        "        break\n",
        "    mask_img = Image.open(tar_imgs[i])\n",
        "    mask_img = mask_img.convert('L')\n",
        "    mask_img = mask_img.resize((256,256))\n",
        "    mask_img = np.array(mask_img)/255\n",
        "    mask_img = (mask_img>0.5)*1.0  \n",
        "    y[i] = mask_img\n",
        "    \n",
        "    "
      ],
      "id": "WXmOiRLpKj0K",
      "execution_count": null,
      "outputs": []
    },
    {
      "cell_type": "code",
      "metadata": {
        "id": "P642kU7XKj0O",
        "outputId": "4525c5da-42a8-4527-f601-71bbf4d04b3a"
      },
      "source": [
        "X.shape,y.shape"
      ],
      "id": "P642kU7XKj0O",
      "execution_count": null,
      "outputs": [
        {
          "output_type": "execute_result",
          "data": {
            "text/plain": [
              "((100, 256, 256, 1), (100, 256, 256))"
            ]
          },
          "metadata": {
            "tags": []
          },
          "execution_count": 42
        }
      ]
    },
    {
      "cell_type": "code",
      "metadata": {
        "id": "IRYQUNvfKj0R"
      },
      "source": [
        "from segmentation_models import Unet\n",
        "#from segmentation_models.backbones import get_preprocessing\n",
        "from segmentation_models.losses import bce_jaccard_loss\n",
        "from segmentation_models.metrics import iou_score\n",
        "from sklearn.model_selection import train_test_split\n",
        "import tensorflow as tf\n",
        "from tensorflow.keras.optimizers import Adam\n",
        "from tensorflow.keras.losses import binary_crossentropy\n",
        "from keras.models import model_from_json\n",
        "\n",
        "from keras.layers import Input, Conv2D, Reshape\n",
        "from keras.models import Model"
      ],
      "id": "IRYQUNvfKj0R",
      "execution_count": null,
      "outputs": []
    },
    {
      "cell_type": "code",
      "metadata": {
        "id": "WhS2WcdnKj0S"
      },
      "source": [
        "from sklearn.model_selection import train_test_split\n",
        "X_train, X_test, y_train, y_test = train_test_split(X, y, test_size=0.2)\n",
        "BACKBONE = 'resnet34'\n",
        "#preprocess_input = get_preprocessing(BACKBONE)\n",
        "x_train = X_train\n",
        "x_test = X_test"
      ],
      "id": "WhS2WcdnKj0S",
      "execution_count": null,
      "outputs": []
    },
    {
      "cell_type": "code",
      "metadata": {
        "id": "eS-WfxcdKj0T",
        "outputId": "e6c97ff6-9dd3-42e9-94b1-3253a02b8d83"
      },
      "source": [
        "x_train.shape,x_test.shape,y_train.shape,y_test.shape"
      ],
      "id": "eS-WfxcdKj0T",
      "execution_count": null,
      "outputs": [
        {
          "output_type": "execute_result",
          "data": {
            "text/plain": [
              "((80, 256, 256, 1), (20, 256, 256, 1), (80, 256, 256), (20, 256, 256))"
            ]
          },
          "metadata": {
            "tags": []
          },
          "execution_count": 45
        }
      ]
    },
    {
      "cell_type": "code",
      "metadata": {
        "id": "umdn7M6aKj0T",
        "outputId": "8f00de73-9908-4534-f573-68e30fb6956b"
      },
      "source": [
        "np.unique(y_test[0])"
      ],
      "id": "umdn7M6aKj0T",
      "execution_count": null,
      "outputs": [
        {
          "output_type": "execute_result",
          "data": {
            "text/plain": [
              "array([0., 1.], dtype=float32)"
            ]
          },
          "metadata": {
            "tags": []
          },
          "execution_count": 46
        }
      ]
    },
    {
      "cell_type": "code",
      "metadata": {
        "id": "lUrTA861Kj0W"
      },
      "source": [
        "import numpy as np \n",
        "import os\n",
        "import skimage.io as io\n",
        "import skimage.transform as trans\n",
        "import numpy as np\n",
        "from tensorflow.keras.models import *\n",
        "from tensorflow.keras.layers import *\n",
        "from tensorflow.keras.optimizers import *\n",
        "from tensorflow.keras.callbacks import ModelCheckpoint, LearningRateScheduler\n",
        "from tensorflow.keras import backend as keras\n",
        "import tensorflow as tf\n",
        "from segmentation_models import Unet\n",
        "from tensorflow.keras.optimizers import Adam\n",
        "from segmentation_models.losses import bce_jaccard_loss, bce_dice_loss\n",
        "from segmentation_models.metrics import iou_score\n",
        "from sklearn.pipeline import Pipeline\n",
        "from keras.callbacks import EarlyStopping"
      ],
      "id": "lUrTA861Kj0W",
      "execution_count": null,
      "outputs": []
    },
    {
      "cell_type": "code",
      "metadata": {
        "id": "QscdWi9xKj0i"
      },
      "source": [
        "def unet(input_size = (256,256,1)):\n",
        "    inputs = Input(input_size)\n",
        "    conv1 = Conv2D(64, 3, activation = 'relu', padding = 'same', kernel_initializer = 'he_normal')(inputs)\n",
        "    conv1 = Conv2D(64, 3, activation = 'relu', padding = 'same', kernel_initializer = 'he_normal')(conv1)\n",
        "    pool1 = MaxPooling2D(pool_size=(2, 2))(conv1)\n",
        "    conv2 = Conv2D(128, 3, activation = 'relu', padding = 'same', kernel_initializer = 'he_normal')(pool1)\n",
        "    conv2 = Conv2D(128, 3, activation = 'relu', padding = 'same', kernel_initializer = 'he_normal')(conv2)\n",
        "    pool2 = MaxPooling2D(pool_size=(2, 2))(conv2)\n",
        "    conv3 = Conv2D(256, 3, activation = 'relu', padding = 'same', kernel_initializer = 'he_normal')(pool2)\n",
        "    conv3 = Conv2D(256, 3, activation = 'relu', padding = 'same', kernel_initializer = 'he_normal')(conv3)\n",
        "    pool3 = MaxPooling2D(pool_size=(2, 2))(conv3)\n",
        "    conv4 = Conv2D(512, 3, activation = 'relu', padding = 'same', kernel_initializer = 'he_normal')(pool3)\n",
        "    conv4 = Conv2D(512, 3, activation = 'relu', padding = 'same', kernel_initializer = 'he_normal')(conv4)\n",
        "    drop4 = Dropout(0.5)(conv4)\n",
        "    pool4 = MaxPooling2D(pool_size=(2, 2))(drop4)\n",
        "\n",
        "    conv5 = Conv2D(1024, 3, activation = 'relu', padding = 'same', kernel_initializer = 'he_normal')(pool4)\n",
        "    conv5 = Conv2D(1024, 3, activation = 'relu', padding = 'same', kernel_initializer = 'he_normal')(conv5)\n",
        "    drop5 = Dropout(0.5)(conv5)\n",
        "\n",
        "    up6 = Conv2D(512, 2, activation = 'relu', padding = 'same', kernel_initializer = 'he_normal')(UpSampling2D(size = (2,2))(drop5))\n",
        "    merge6 = concatenate([drop4,up6], axis = 3)\n",
        "    conv6 = Conv2D(512, 3, activation = 'relu', padding = 'same', kernel_initializer = 'he_normal')(merge6)\n",
        "    conv6 = Conv2D(512, 3, activation = 'relu', padding = 'same', kernel_initializer = 'he_normal')(conv6)\n",
        "\n",
        "    up7 = Conv2D(256, 2, activation = 'relu', padding = 'same', kernel_initializer = 'he_normal')(UpSampling2D(size = (2,2))(conv6))\n",
        "    merge7 = concatenate([conv3,up7], axis = 3)\n",
        "    conv7 = Conv2D(256, 3, activation = 'relu', padding = 'same', kernel_initializer = 'he_normal')(merge7)\n",
        "    conv7 = Conv2D(256, 3, activation = 'relu', padding = 'same', kernel_initializer = 'he_normal')(conv7)\n",
        "\n",
        "    up8 = Conv2D(128, 2, activation = 'relu', padding = 'same', kernel_initializer = 'he_normal')(UpSampling2D(size = (2,2))(conv7))\n",
        "    merge8 = concatenate([conv2,up8], axis = 3)\n",
        "    conv8 = Conv2D(128, 3, activation = 'relu', padding = 'same', kernel_initializer = 'he_normal')(merge8)\n",
        "    conv8 = Conv2D(128, 3, activation = 'relu', padding = 'same', kernel_initializer = 'he_normal')(conv8)\n",
        "\n",
        "    up9 = Conv2D(64, 2, activation = 'relu', padding = 'same', kernel_initializer = 'he_normal')(UpSampling2D(size = (2,2))(conv8))\n",
        "    merge9 = concatenate([conv1,up9], axis = 3)\n",
        "    conv9 = Conv2D(64, 3, activation = 'relu', padding = 'same', kernel_initializer = 'he_normal')(merge9)\n",
        "    conv9 = Conv2D(64, 3, activation = 'relu', padding = 'same', kernel_initializer = 'he_normal')(conv9)\n",
        "    conv9 = Conv2D(2, 3, activation = 'relu', padding = 'same', kernel_initializer = 'he_normal')(conv9)\n",
        "    conv10 = Conv2D(1, 1, activation = 'sigmoid')(conv9)\n",
        "\n",
        "    model = Model(inputs,conv10)\n",
        "\n",
        "    model.compile(optimizer =\"Adam\", loss = bce_jaccard_loss, metrics = iou_score)\n",
        "    \n",
        "    print(model.summary())\n",
        "\n",
        " \n",
        "\n",
        "    return model\n"
      ],
      "id": "QscdWi9xKj0i",
      "execution_count": null,
      "outputs": []
    },
    {
      "cell_type": "code",
      "metadata": {
        "id": "HZ2Pp0kYKj0v",
        "outputId": "189b37de-83aa-48eb-d818-df9f20a65992"
      },
      "source": [
        "model = unet()"
      ],
      "id": "HZ2Pp0kYKj0v",
      "execution_count": null,
      "outputs": [
        {
          "output_type": "stream",
          "text": [
            "Model: \"model_1\"\n",
            "__________________________________________________________________________________________________\n",
            "Layer (type)                    Output Shape         Param #     Connected to                     \n",
            "==================================================================================================\n",
            "input_2 (InputLayer)            [(None, 256, 256, 1) 0                                            \n",
            "__________________________________________________________________________________________________\n",
            "conv2d_24 (Conv2D)              (None, 256, 256, 64) 640         input_2[0][0]                    \n",
            "__________________________________________________________________________________________________\n",
            "conv2d_25 (Conv2D)              (None, 256, 256, 64) 36928       conv2d_24[0][0]                  \n",
            "__________________________________________________________________________________________________\n",
            "max_pooling2d_4 (MaxPooling2D)  (None, 128, 128, 64) 0           conv2d_25[0][0]                  \n",
            "__________________________________________________________________________________________________\n",
            "conv2d_26 (Conv2D)              (None, 128, 128, 128 73856       max_pooling2d_4[0][0]            \n",
            "__________________________________________________________________________________________________\n",
            "conv2d_27 (Conv2D)              (None, 128, 128, 128 147584      conv2d_26[0][0]                  \n",
            "__________________________________________________________________________________________________\n",
            "max_pooling2d_5 (MaxPooling2D)  (None, 64, 64, 128)  0           conv2d_27[0][0]                  \n",
            "__________________________________________________________________________________________________\n",
            "conv2d_28 (Conv2D)              (None, 64, 64, 256)  295168      max_pooling2d_5[0][0]            \n",
            "__________________________________________________________________________________________________\n",
            "conv2d_29 (Conv2D)              (None, 64, 64, 256)  590080      conv2d_28[0][0]                  \n",
            "__________________________________________________________________________________________________\n",
            "max_pooling2d_6 (MaxPooling2D)  (None, 32, 32, 256)  0           conv2d_29[0][0]                  \n",
            "__________________________________________________________________________________________________\n",
            "conv2d_30 (Conv2D)              (None, 32, 32, 512)  1180160     max_pooling2d_6[0][0]            \n",
            "__________________________________________________________________________________________________\n",
            "conv2d_31 (Conv2D)              (None, 32, 32, 512)  2359808     conv2d_30[0][0]                  \n",
            "__________________________________________________________________________________________________\n",
            "dropout_2 (Dropout)             (None, 32, 32, 512)  0           conv2d_31[0][0]                  \n",
            "__________________________________________________________________________________________________\n",
            "max_pooling2d_7 (MaxPooling2D)  (None, 16, 16, 512)  0           dropout_2[0][0]                  \n",
            "__________________________________________________________________________________________________\n",
            "conv2d_32 (Conv2D)              (None, 16, 16, 1024) 4719616     max_pooling2d_7[0][0]            \n",
            "__________________________________________________________________________________________________\n",
            "conv2d_33 (Conv2D)              (None, 16, 16, 1024) 9438208     conv2d_32[0][0]                  \n",
            "__________________________________________________________________________________________________\n",
            "dropout_3 (Dropout)             (None, 16, 16, 1024) 0           conv2d_33[0][0]                  \n",
            "__________________________________________________________________________________________________\n",
            "up_sampling2d_4 (UpSampling2D)  (None, 32, 32, 1024) 0           dropout_3[0][0]                  \n",
            "__________________________________________________________________________________________________\n",
            "conv2d_34 (Conv2D)              (None, 32, 32, 512)  2097664     up_sampling2d_4[0][0]            \n",
            "__________________________________________________________________________________________________\n",
            "concatenate_4 (Concatenate)     (None, 32, 32, 1024) 0           dropout_2[0][0]                  \n",
            "                                                                 conv2d_34[0][0]                  \n",
            "__________________________________________________________________________________________________\n",
            "conv2d_35 (Conv2D)              (None, 32, 32, 512)  4719104     concatenate_4[0][0]              \n",
            "__________________________________________________________________________________________________\n",
            "conv2d_36 (Conv2D)              (None, 32, 32, 512)  2359808     conv2d_35[0][0]                  \n",
            "__________________________________________________________________________________________________\n",
            "up_sampling2d_5 (UpSampling2D)  (None, 64, 64, 512)  0           conv2d_36[0][0]                  \n",
            "__________________________________________________________________________________________________\n",
            "conv2d_37 (Conv2D)              (None, 64, 64, 256)  524544      up_sampling2d_5[0][0]            \n",
            "__________________________________________________________________________________________________\n",
            "concatenate_5 (Concatenate)     (None, 64, 64, 512)  0           conv2d_29[0][0]                  \n",
            "                                                                 conv2d_37[0][0]                  \n",
            "__________________________________________________________________________________________________\n",
            "conv2d_38 (Conv2D)              (None, 64, 64, 256)  1179904     concatenate_5[0][0]              \n",
            "__________________________________________________________________________________________________\n",
            "conv2d_39 (Conv2D)              (None, 64, 64, 256)  590080      conv2d_38[0][0]                  \n",
            "__________________________________________________________________________________________________\n",
            "up_sampling2d_6 (UpSampling2D)  (None, 128, 128, 256 0           conv2d_39[0][0]                  \n",
            "__________________________________________________________________________________________________\n",
            "conv2d_40 (Conv2D)              (None, 128, 128, 128 131200      up_sampling2d_6[0][0]            \n",
            "__________________________________________________________________________________________________\n",
            "concatenate_6 (Concatenate)     (None, 128, 128, 256 0           conv2d_27[0][0]                  \n",
            "                                                                 conv2d_40[0][0]                  \n",
            "__________________________________________________________________________________________________\n",
            "conv2d_41 (Conv2D)              (None, 128, 128, 128 295040      concatenate_6[0][0]              \n",
            "__________________________________________________________________________________________________\n",
            "conv2d_42 (Conv2D)              (None, 128, 128, 128 147584      conv2d_41[0][0]                  \n",
            "__________________________________________________________________________________________________\n",
            "up_sampling2d_7 (UpSampling2D)  (None, 256, 256, 128 0           conv2d_42[0][0]                  \n",
            "__________________________________________________________________________________________________\n",
            "conv2d_43 (Conv2D)              (None, 256, 256, 64) 32832       up_sampling2d_7[0][0]            \n",
            "__________________________________________________________________________________________________\n",
            "concatenate_7 (Concatenate)     (None, 256, 256, 128 0           conv2d_25[0][0]                  \n",
            "                                                                 conv2d_43[0][0]                  \n",
            "__________________________________________________________________________________________________\n",
            "conv2d_44 (Conv2D)              (None, 256, 256, 64) 73792       concatenate_7[0][0]              \n",
            "__________________________________________________________________________________________________\n",
            "conv2d_45 (Conv2D)              (None, 256, 256, 64) 36928       conv2d_44[0][0]                  \n",
            "__________________________________________________________________________________________________\n",
            "conv2d_46 (Conv2D)              (None, 256, 256, 2)  1154        conv2d_45[0][0]                  \n",
            "__________________________________________________________________________________________________\n",
            "conv2d_47 (Conv2D)              (None, 256, 256, 1)  3           conv2d_46[0][0]                  \n",
            "==================================================================================================\n",
            "Total params: 31,031,685\n",
            "Trainable params: 31,031,685\n",
            "Non-trainable params: 0\n",
            "__________________________________________________________________________________________________\n",
            "None\n"
          ],
          "name": "stdout"
        }
      ]
    },
    {
      "cell_type": "code",
      "metadata": {
        "id": "gwT1zcWfKj0z",
        "outputId": "74460ece-16d6-48cc-82ed-9f5388ca1d4c"
      },
      "source": [
        "filepath=\"weights.best.hdf5\"\n",
        "checkpoint = ModelCheckpoint(filepath, monitor='val_loss', verbose=0, save_best_only=True, mode='max')\n",
        "callbacks = [EarlyStopping(monitor='val_loss', patience=10, verbose=0),checkpoint]\n",
        "\n",
        "history=model.fit(X_train,y_train,batch_size =32,epochs=100,validation_data=(X_test, y_test))"
      ],
      "id": "gwT1zcWfKj0z",
      "execution_count": null,
      "outputs": [
        {
          "output_type": "stream",
          "text": [
            "Epoch 1/100\n",
            "3/3 [==============================] - 151s 47s/step - loss: 1.5769 - iou_score: 1.6650e-10 - val_loss: 1.5535 - val_iou_score: 2.1260e-10\n",
            "Epoch 2/100\n",
            "3/3 [==============================] - 148s 46s/step - loss: 1.5769 - iou_score: 1.6492e-10 - val_loss: 1.5535 - val_iou_score: 2.1260e-10\n",
            "Epoch 3/100\n",
            "3/3 [==============================] - 149s 46s/step - loss: 1.5769 - iou_score: 1.7521e-10 - val_loss: 1.5535 - val_iou_score: 2.1260e-10\n",
            "Epoch 4/100\n",
            "3/3 [==============================] - 148s 46s/step - loss: 1.5769 - iou_score: 1.6235e-10 - val_loss: 1.5535 - val_iou_score: 2.1260e-10\n",
            "Epoch 5/100\n",
            "3/3 [==============================] - 148s 46s/step - loss: 1.5769 - iou_score: 1.6724e-10 - val_loss: 1.5535 - val_iou_score: 2.1260e-10\n",
            "Epoch 6/100\n",
            "3/3 [==============================] - 147s 46s/step - loss: 1.5769 - iou_score: 1.5814e-10 - val_loss: 1.5535 - val_iou_score: 2.1260e-10\n",
            "Epoch 7/100\n",
            "3/3 [==============================] - 147s 46s/step - loss: 1.5769 - iou_score: 1.8102e-10 - val_loss: 1.5535 - val_iou_score: 2.1260e-10\n",
            "Epoch 8/100\n",
            "3/3 [==============================] - 147s 46s/step - loss: 1.5769 - iou_score: 1.7824e-10 - val_loss: 1.5535 - val_iou_score: 2.1260e-10\n",
            "Epoch 9/100\n",
            "3/3 [==============================] - 148s 46s/step - loss: 1.5769 - iou_score: 1.7037e-10 - val_loss: 1.5535 - val_iou_score: 2.1260e-10\n",
            "Epoch 10/100\n",
            "3/3 [==============================] - 147s 46s/step - loss: 1.5769 - iou_score: 1.7480e-10 - val_loss: 1.5535 - val_iou_score: 2.1260e-10\n",
            "Epoch 11/100\n",
            "3/3 [==============================] - 147s 46s/step - loss: 1.5769 - iou_score: 1.9105e-10 - val_loss: 1.5535 - val_iou_score: 2.1260e-10\n",
            "Epoch 12/100\n",
            "3/3 [==============================] - 147s 46s/step - loss: 1.5769 - iou_score: 2.0013e-10 - val_loss: 1.5535 - val_iou_score: 2.1260e-10\n",
            "Epoch 13/100\n",
            "3/3 [==============================] - 148s 46s/step - loss: 1.5769 - iou_score: 1.9377e-10 - val_loss: 1.5535 - val_iou_score: 2.1260e-10\n",
            "Epoch 14/100\n",
            "3/3 [==============================] - 147s 46s/step - loss: 1.5769 - iou_score: 1.7484e-10 - val_loss: 1.5535 - val_iou_score: 2.1260e-10\n",
            "Epoch 15/100\n",
            "3/3 [==============================] - 147s 46s/step - loss: 1.5769 - iou_score: 1.8296e-10 - val_loss: 1.5535 - val_iou_score: 2.1260e-10\n",
            "Epoch 16/100\n",
            "3/3 [==============================] - 147s 46s/step - loss: 1.5769 - iou_score: 1.5779e-10 - val_loss: 1.5535 - val_iou_score: 2.1260e-10\n",
            "Epoch 17/100\n",
            "3/3 [==============================] - 148s 46s/step - loss: 1.5769 - iou_score: 1.6749e-10 - val_loss: 1.5535 - val_iou_score: 2.1260e-10\n",
            "Epoch 18/100\n",
            "3/3 [==============================] - 147s 46s/step - loss: 1.5769 - iou_score: 1.7695e-10 - val_loss: 1.5535 - val_iou_score: 2.1260e-10\n",
            "Epoch 19/100\n",
            "3/3 [==============================] - 147s 46s/step - loss: 1.5769 - iou_score: 1.7029e-10 - val_loss: 1.5535 - val_iou_score: 2.1260e-10\n",
            "Epoch 20/100\n",
            "3/3 [==============================] - 153s 48s/step - loss: 1.5769 - iou_score: 1.7283e-10 - val_loss: 1.5535 - val_iou_score: 2.1260e-10\n",
            "Epoch 21/100\n",
            "3/3 [==============================] - 179s 55s/step - loss: 1.5769 - iou_score: 1.6867e-10 - val_loss: 1.5535 - val_iou_score: 2.1260e-10\n",
            "Epoch 22/100\n",
            "3/3 [==============================] - 147s 46s/step - loss: 1.5769 - iou_score: 1.7695e-10 - val_loss: 1.5535 - val_iou_score: 2.1260e-10\n",
            "Epoch 23/100\n",
            "3/3 [==============================] - 147s 46s/step - loss: 1.5769 - iou_score: 1.6463e-10 - val_loss: 1.5535 - val_iou_score: 2.1260e-10\n",
            "Epoch 24/100\n",
            "3/3 [==============================] - 147s 46s/step - loss: 1.5769 - iou_score: 1.6586e-10 - val_loss: 1.5535 - val_iou_score: 2.1260e-10\n",
            "Epoch 25/100\n",
            "3/3 [==============================] - 148s 46s/step - loss: 1.5769 - iou_score: 1.5983e-10 - val_loss: 1.5535 - val_iou_score: 2.1260e-10\n",
            "Epoch 26/100\n",
            "3/3 [==============================] - 147s 46s/step - loss: 1.5769 - iou_score: 1.7265e-10 - val_loss: 1.5535 - val_iou_score: 2.1260e-10\n",
            "Epoch 27/100\n",
            "3/3 [==============================] - 147s 46s/step - loss: 1.5769 - iou_score: 1.7990e-10 - val_loss: 1.5535 - val_iou_score: 2.1260e-10\n",
            "Epoch 28/100\n",
            "3/3 [==============================] - 147s 46s/step - loss: 1.5769 - iou_score: 1.7665e-10 - val_loss: 1.5535 - val_iou_score: 2.1260e-10\n",
            "Epoch 29/100\n",
            "3/3 [==============================] - 148s 46s/step - loss: 1.5769 - iou_score: 1.7791e-10 - val_loss: 1.5535 - val_iou_score: 2.1260e-10\n",
            "Epoch 30/100\n",
            "3/3 [==============================] - 147s 46s/step - loss: 1.5769 - iou_score: 1.7030e-10 - val_loss: 1.5535 - val_iou_score: 2.1260e-10\n",
            "Epoch 31/100\n",
            "3/3 [==============================] - 147s 46s/step - loss: 1.5769 - iou_score: 1.6692e-10 - val_loss: 1.5535 - val_iou_score: 2.1260e-10\n",
            "Epoch 32/100\n",
            "3/3 [==============================] - 147s 46s/step - loss: 1.5769 - iou_score: 1.5804e-10 - val_loss: 1.5535 - val_iou_score: 2.1260e-10\n",
            "Epoch 33/100\n",
            "3/3 [==============================] - 147s 46s/step - loss: 1.5769 - iou_score: 1.7140e-10 - val_loss: 1.5535 - val_iou_score: 2.1260e-10\n",
            "Epoch 34/100\n",
            "3/3 [==============================] - 147s 46s/step - loss: 1.5769 - iou_score: 1.5307e-10 - val_loss: 1.5535 - val_iou_score: 2.1260e-10\n",
            "Epoch 35/100\n",
            "3/3 [==============================] - 147s 46s/step - loss: 1.5769 - iou_score: 1.5722e-10 - val_loss: 1.5535 - val_iou_score: 2.1260e-10\n",
            "Epoch 36/100\n",
            "3/3 [==============================] - 148s 46s/step - loss: 1.5769 - iou_score: 1.7237e-10 - val_loss: 1.5535 - val_iou_score: 2.1260e-10\n",
            "Epoch 37/100\n",
            "3/3 [==============================] - 148s 46s/step - loss: 1.5769 - iou_score: 1.9102e-10 - val_loss: 1.5535 - val_iou_score: 2.1260e-10\n",
            "Epoch 38/100\n",
            "3/3 [==============================] - 147s 46s/step - loss: 1.5769 - iou_score: 1.5489e-10 - val_loss: 1.5535 - val_iou_score: 2.1260e-10\n",
            "Epoch 39/100\n",
            "3/3 [==============================] - 147s 46s/step - loss: 1.5769 - iou_score: 1.7277e-10 - val_loss: 1.5535 - val_iou_score: 2.1260e-10\n",
            "Epoch 40/100\n",
            "3/3 [==============================] - 147s 46s/step - loss: 1.5769 - iou_score: 1.8374e-10 - val_loss: 1.5535 - val_iou_score: 2.1260e-10\n",
            "Epoch 41/100\n",
            "3/3 [==============================] - 148s 46s/step - loss: 1.5769 - iou_score: 1.6640e-10 - val_loss: 1.5535 - val_iou_score: 2.1260e-10\n",
            "Epoch 42/100\n",
            "3/3 [==============================] - 148s 46s/step - loss: 1.5769 - iou_score: 1.7599e-10 - val_loss: 1.5535 - val_iou_score: 2.1260e-10\n",
            "Epoch 43/100\n",
            "3/3 [==============================] - 147s 46s/step - loss: 1.5769 - iou_score: 1.7311e-10 - val_loss: 1.5535 - val_iou_score: 2.1260e-10\n",
            "Epoch 44/100\n",
            "3/3 [==============================] - 148s 46s/step - loss: 1.5769 - iou_score: 1.7904e-10 - val_loss: 1.5535 - val_iou_score: 2.1260e-10\n",
            "Epoch 45/100\n",
            "3/3 [==============================] - 147s 46s/step - loss: 1.5769 - iou_score: 1.6269e-10 - val_loss: 1.5535 - val_iou_score: 2.1260e-10\n",
            "Epoch 46/100\n",
            "3/3 [==============================] - 147s 46s/step - loss: 1.5769 - iou_score: 1.6236e-10 - val_loss: 1.5535 - val_iou_score: 2.1260e-10\n",
            "Epoch 47/100\n",
            "3/3 [==============================] - 147s 46s/step - loss: 1.5769 - iou_score: 1.7684e-10 - val_loss: 1.5535 - val_iou_score: 2.1260e-10\n",
            "Epoch 48/100\n",
            "3/3 [==============================] - 147s 46s/step - loss: 1.5769 - iou_score: 1.7384e-10 - val_loss: 1.5535 - val_iou_score: 2.1260e-10\n",
            "Epoch 49/100\n",
            "3/3 [==============================] - 147s 46s/step - loss: 1.5769 - iou_score: 1.7051e-10 - val_loss: 1.5535 - val_iou_score: 2.1260e-10\n",
            "Epoch 50/100\n",
            "3/3 [==============================] - 152s 48s/step - loss: 1.5769 - iou_score: 1.6087e-10 - val_loss: 1.5535 - val_iou_score: 2.1260e-10\n",
            "Epoch 51/100\n",
            "3/3 [==============================] - 181s 56s/step - loss: 1.5769 - iou_score: 1.6944e-10 - val_loss: 1.5535 - val_iou_score: 2.1260e-10\n",
            "Epoch 52/100\n",
            "3/3 [==============================] - 147s 46s/step - loss: 1.5769 - iou_score: 1.6669e-10 - val_loss: 1.5535 - val_iou_score: 2.1260e-10\n",
            "Epoch 53/100\n",
            "3/3 [==============================] - 148s 46s/step - loss: 1.5769 - iou_score: 1.6912e-10 - val_loss: 1.5535 - val_iou_score: 2.1260e-10\n",
            "Epoch 54/100\n",
            "3/3 [==============================] - 148s 46s/step - loss: 1.5769 - iou_score: 1.9261e-10 - val_loss: 1.5535 - val_iou_score: 2.1260e-10\n"
          ],
          "name": "stdout"
        },
        {
          "output_type": "stream",
          "text": [
            "Epoch 55/100\n",
            "3/3 [==============================] - 147s 46s/step - loss: 1.5769 - iou_score: 1.7183e-10 - val_loss: 1.5535 - val_iou_score: 2.1260e-10\n",
            "Epoch 56/100\n",
            "3/3 [==============================] - 148s 46s/step - loss: 1.5769 - iou_score: 1.9388e-10 - val_loss: 1.5535 - val_iou_score: 2.1260e-10\n",
            "Epoch 57/100\n",
            "3/3 [==============================] - 148s 46s/step - loss: 1.5769 - iou_score: 1.7792e-10 - val_loss: 1.5535 - val_iou_score: 2.1260e-10\n",
            "Epoch 58/100\n",
            "3/3 [==============================] - 148s 46s/step - loss: 1.5769 - iou_score: 1.6194e-10 - val_loss: 1.5535 - val_iou_score: 2.1260e-10\n",
            "Epoch 59/100\n",
            "3/3 [==============================] - 147s 46s/step - loss: 1.5769 - iou_score: 1.5988e-10 - val_loss: 1.5535 - val_iou_score: 2.1260e-10\n",
            "Epoch 60/100\n",
            "3/3 [==============================] - 147s 46s/step - loss: 1.5769 - iou_score: 1.9043e-10 - val_loss: 1.5535 - val_iou_score: 2.1260e-10\n",
            "Epoch 61/100\n",
            "3/3 [==============================] - 148s 46s/step - loss: 1.5769 - iou_score: 1.8957e-10 - val_loss: 1.5535 - val_iou_score: 2.1260e-10\n",
            "Epoch 62/100\n",
            "3/3 [==============================] - 148s 46s/step - loss: 1.5769 - iou_score: 1.8123e-10 - val_loss: 1.5535 - val_iou_score: 2.1260e-10\n",
            "Epoch 63/100\n",
            "3/3 [==============================] - 147s 46s/step - loss: 1.5769 - iou_score: 1.6219e-10 - val_loss: 1.5535 - val_iou_score: 2.1260e-10\n",
            "Epoch 64/100\n",
            "3/3 [==============================] - 147s 46s/step - loss: 1.5769 - iou_score: 1.8138e-10 - val_loss: 1.5535 - val_iou_score: 2.1260e-10\n",
            "Epoch 65/100\n",
            "3/3 [==============================] - 148s 46s/step - loss: 1.5769 - iou_score: 1.6644e-10 - val_loss: 1.5535 - val_iou_score: 2.1260e-10\n",
            "Epoch 66/100\n",
            "3/3 [==============================] - 148s 46s/step - loss: 1.5769 - iou_score: 1.7962e-10 - val_loss: 1.5535 - val_iou_score: 2.1260e-10\n",
            "Epoch 67/100\n",
            "3/3 [==============================] - 147s 46s/step - loss: 1.5769 - iou_score: 1.6223e-10 - val_loss: 1.5535 - val_iou_score: 2.1260e-10\n",
            "Epoch 68/100\n",
            "3/3 [==============================] - 147s 46s/step - loss: 1.5769 - iou_score: 1.6879e-10 - val_loss: 1.5535 - val_iou_score: 2.1260e-10\n",
            "Epoch 69/100\n",
            "3/3 [==============================] - 148s 46s/step - loss: 1.5769 - iou_score: 1.7072e-10 - val_loss: 1.5535 - val_iou_score: 2.1260e-10\n",
            "Epoch 70/100\n",
            "3/3 [==============================] - 148s 46s/step - loss: 1.5769 - iou_score: 1.7938e-10 - val_loss: 1.5535 - val_iou_score: 2.1260e-10\n",
            "Epoch 71/100\n",
            "3/3 [==============================] - 147s 46s/step - loss: 1.5769 - iou_score: 1.6857e-10 - val_loss: 1.5535 - val_iou_score: 2.1260e-10\n",
            "Epoch 72/100\n",
            "3/3 [==============================] - 147s 46s/step - loss: 1.5769 - iou_score: 1.8525e-10 - val_loss: 1.5535 - val_iou_score: 2.1260e-10\n",
            "Epoch 73/100\n",
            "3/3 [==============================] - 147s 46s/step - loss: 1.5769 - iou_score: 1.7750e-10 - val_loss: 1.5535 - val_iou_score: 2.1260e-10\n",
            "Epoch 74/100\n",
            "3/3 [==============================] - 148s 46s/step - loss: 1.5769 - iou_score: 1.6827e-10 - val_loss: 1.5535 - val_iou_score: 2.1260e-10\n",
            "Epoch 75/100\n",
            "3/3 [==============================] - 147s 46s/step - loss: 1.5769 - iou_score: 1.6045e-10 - val_loss: 1.5535 - val_iou_score: 2.1260e-10\n",
            "Epoch 76/100\n",
            "3/3 [==============================] - 147s 46s/step - loss: 1.5769 - iou_score: 1.7717e-10 - val_loss: 1.5535 - val_iou_score: 2.1260e-10\n",
            "Epoch 77/100\n",
            "3/3 [==============================] - 147s 46s/step - loss: 1.5769 - iou_score: 1.6531e-10 - val_loss: 1.5535 - val_iou_score: 2.1260e-10\n",
            "Epoch 78/100\n",
            "3/3 [==============================] - 148s 46s/step - loss: 1.5769 - iou_score: 1.6340e-10 - val_loss: 1.5535 - val_iou_score: 2.1260e-10\n",
            "Epoch 79/100\n",
            "3/3 [==============================] - 147s 46s/step - loss: 1.5769 - iou_score: 1.7189e-10 - val_loss: 1.5535 - val_iou_score: 2.1260e-10\n",
            "Epoch 80/100\n",
            "3/3 [==============================] - 148s 46s/step - loss: 1.5769 - iou_score: 1.6402e-10 - val_loss: 1.5535 - val_iou_score: 2.1260e-10\n",
            "Epoch 81/100\n",
            "3/3 [==============================] - 147s 46s/step - loss: 1.5769 - iou_score: 1.6557e-10 - val_loss: 1.5535 - val_iou_score: 2.1260e-10\n",
            "Epoch 82/100\n",
            "3/3 [==============================] - 148s 46s/step - loss: 1.5769 - iou_score: 1.6532e-10 - val_loss: 1.5535 - val_iou_score: 2.1260e-10\n",
            "Epoch 83/100\n",
            "3/3 [==============================] - 148s 46s/step - loss: 1.5769 - iou_score: 1.6808e-10 - val_loss: 1.5535 - val_iou_score: 2.1260e-10\n",
            "Epoch 84/100\n",
            "3/3 [==============================] - 148s 46s/step - loss: 1.5769 - iou_score: 1.6482e-10 - val_loss: 1.5535 - val_iou_score: 2.1260e-10\n",
            "Epoch 85/100\n",
            "3/3 [==============================] - 148s 46s/step - loss: 1.5769 - iou_score: 1.7410e-10 - val_loss: 1.5535 - val_iou_score: 2.1260e-10\n",
            "Epoch 86/100\n",
            "3/3 [==============================] - 148s 46s/step - loss: 1.5769 - iou_score: 1.7441e-10 - val_loss: 1.5535 - val_iou_score: 2.1260e-10\n",
            "Epoch 87/100\n",
            "3/3 [==============================] - 148s 46s/step - loss: 1.5769 - iou_score: 1.6282e-10 - val_loss: 1.5535 - val_iou_score: 2.1260e-10\n",
            "Epoch 88/100\n",
            "3/3 [==============================] - 147s 46s/step - loss: 1.5769 - iou_score: 1.6009e-10 - val_loss: 1.5535 - val_iou_score: 2.1260e-10\n",
            "Epoch 89/100\n",
            "3/3 [==============================] - 147s 46s/step - loss: 1.5769 - iou_score: 1.6872e-10 - val_loss: 1.5535 - val_iou_score: 2.1260e-10\n",
            "Epoch 90/100\n",
            "3/3 [==============================] - 148s 46s/step - loss: 1.5769 - iou_score: 1.6945e-10 - val_loss: 1.5535 - val_iou_score: 2.1260e-10\n",
            "Epoch 91/100\n",
            "3/3 [==============================] - 147s 46s/step - loss: 1.5769 - iou_score: 1.8969e-10 - val_loss: 1.5535 - val_iou_score: 2.1260e-10\n",
            "Epoch 92/100\n",
            "3/3 [==============================] - 147s 46s/step - loss: 1.5769 - iou_score: 1.6638e-10 - val_loss: 1.5535 - val_iou_score: 2.1260e-10\n",
            "Epoch 93/100\n",
            "3/3 [==============================] - 147s 46s/step - loss: 1.5769 - iou_score: 1.6211e-10 - val_loss: 1.5535 - val_iou_score: 2.1260e-10\n",
            "Epoch 94/100\n",
            "3/3 [==============================] - 148s 46s/step - loss: 1.5769 - iou_score: 1.7596e-10 - val_loss: 1.5535 - val_iou_score: 2.1260e-10\n",
            "Epoch 95/100\n",
            "3/3 [==============================] - 148s 46s/step - loss: 1.5769 - iou_score: 1.6048e-10 - val_loss: 1.5535 - val_iou_score: 2.1260e-10\n",
            "Epoch 96/100\n",
            "3/3 [==============================] - 147s 46s/step - loss: 1.5769 - iou_score: 1.6373e-10 - val_loss: 1.5535 - val_iou_score: 2.1260e-10\n",
            "Epoch 97/100\n",
            "3/3 [==============================] - 148s 46s/step - loss: 1.5769 - iou_score: 1.7924e-10 - val_loss: 1.5535 - val_iou_score: 2.1260e-10\n",
            "Epoch 98/100\n",
            "3/3 [==============================] - 148s 46s/step - loss: 1.5769 - iou_score: 1.6401e-10 - val_loss: 1.5535 - val_iou_score: 2.1260e-10\n",
            "Epoch 99/100\n",
            "3/3 [==============================] - 147s 46s/step - loss: 1.5769 - iou_score: 1.6143e-10 - val_loss: 1.5535 - val_iou_score: 2.1260e-10\n",
            "Epoch 100/100\n",
            "3/3 [==============================] - 147s 46s/step - loss: 1.5769 - iou_score: 1.7406e-10 - val_loss: 1.5535 - val_iou_score: 2.1260e-10\n"
          ],
          "name": "stdout"
        }
      ]
    },
    {
      "cell_type": "code",
      "metadata": {
        "id": "DH_kmDI-Kj0z"
      },
      "source": [
        "pred_mask=[]\n",
        "for i in range(len(X_test)):\n",
        "    mask=model.predict(X_test[i].reshape(1,256,256,1))\n",
        "    mask=mask.reshape(256,256)\n",
        "    mask=mask.flatten()\n",
        "    mask=[ 1 if x >= 0.2 else 0 for x in mask]\n",
        "    pred_mask.extend(mask)\n",
        "    \n",
        "    "
      ],
      "id": "DH_kmDI-Kj0z",
      "execution_count": null,
      "outputs": []
    },
    {
      "cell_type": "code",
      "metadata": {
        "id": "PY-gnxq5Kj01"
      },
      "source": [
        "label_mask=y_test.flatten()"
      ],
      "id": "PY-gnxq5Kj01",
      "execution_count": null,
      "outputs": []
    },
    {
      "cell_type": "code",
      "metadata": {
        "id": "Ln3EfICmKj02"
      },
      "source": [
        "from sklearn.metrics import classification_report"
      ],
      "id": "Ln3EfICmKj02",
      "execution_count": null,
      "outputs": []
    },
    {
      "cell_type": "code",
      "metadata": {
        "id": "cjQ7i04eKj05",
        "outputId": "173ccc15-4e45-4837-cba5-6998cf566596"
      },
      "source": [
        "len(label_mask),len(pred_mask)"
      ],
      "id": "cjQ7i04eKj05",
      "execution_count": null,
      "outputs": [
        {
          "output_type": "execute_result",
          "data": {
            "text/plain": [
              "(1310720, 1310720)"
            ]
          },
          "metadata": {
            "tags": []
          },
          "execution_count": 97
        }
      ]
    },
    {
      "cell_type": "code",
      "metadata": {
        "id": "WlxA4G9iKj06",
        "outputId": "69ea53ff-5660-4c58-8015-6060715385c7"
      },
      "source": [
        "print(classification_report(pred_mask,label_mask))"
      ],
      "id": "WlxA4G9iKj06",
      "execution_count": null,
      "outputs": [
        {
          "output_type": "stream",
          "text": [
            "              precision    recall  f1-score   support\n",
            "\n",
            "         0.0       1.00      0.96      0.98   1310720\n",
            "         1.0       0.00      0.00      0.00         0\n",
            "\n",
            "    accuracy                           0.96   1310720\n",
            "   macro avg       0.50      0.48      0.49   1310720\n",
            "weighted avg       1.00      0.96      0.98   1310720\n",
            "\n"
          ],
          "name": "stdout"
        }
      ]
    },
    {
      "cell_type": "code",
      "metadata": {
        "id": "Yy7GN6rJKj08"
      },
      "source": [
        ""
      ],
      "id": "Yy7GN6rJKj08",
      "execution_count": null,
      "outputs": []
    }
  ]
}